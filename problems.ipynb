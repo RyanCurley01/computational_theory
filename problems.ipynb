{
 "cells": [
  {
   "cell_type": "code",
   "execution_count": 14,
   "id": "e57746fd",
   "metadata": {},
   "outputs": [
    {
     "name": "stdout",
     "output_type": "stream",
     "text": [
      "All test cases passed!\n",
      "All test cases passed!\n",
      "All test cases passed!\n",
      "Sigma0(0x12345678) = 0x66146474\n",
      "Sigma0(0x12345678) = 0x3561ABDA\n",
      "sigma0(0x12345678) = 0xE7FCE6EE\n",
      "sigma0(0x12345678) = 0xA1F78649\n"
     ]
    }
   ],
   "source": [
    "import numpy as np\n",
    "import IPython as ipy\n",
    "import scipy as sc\n",
    "import statsmodels.api as sm\n",
    "import matplotlib as mpl \n",
    "import pandas as pd \n",
    "import seaborn as sb \n",
    "import sympy as sym \n",
    "#import nose as ns \n",
    "import sklearn as scl \n",
    "from qiskit.visualization import plot_histogram as ph\n",
    "import yfinance as yf \n",
    "\n",
    "\n",
    "\n",
    "# 1.\n",
    "# To check if the the output is 1 if an odd number of the three inputs is 1, otherwise the output is 0\n",
    "def Parity(x, y, z):\n",
    "    x = np.uint32(x)\n",
    "    y = np.uint32(y)\n",
    "    z = np.uint32(z)\n",
    "    \n",
    "    return x ^ y ^ z\n",
    "\n",
    "\n",
    "def test_parity():\n",
    "    # test for all 0's\n",
    "    assert Parity(0x00000000, 0x00000000, 0x00000000) == np.uint32(0x00000000)\n",
    "\n",
    "    # test for all 1's\n",
    "    assert Parity(0xFFFFFFFF, 0xFFFFFFFF, 0xFFFFFFFF) == np.uint32(0xFFFFFFFF)\n",
    "\n",
    "    # test for mixed numbers\n",
    "    assert Parity(0x0F0F0F0F, 0x33333333, 0x55555555) == np.uint32(0x69696969)\n",
    "    \n",
    "    \n",
    "    a = np.uint32(0b10101010_10101010_10101010_10101010)\n",
    "    b = np.uint32(0b01010101_01010101_01010101_01010101)\n",
    "    c = np.uint32(0xFFFFFFFF)\n",
    "    result = Parity(a, b, c)\n",
    "    expected = np.uint32(0x00000000)\n",
    "    assert result == expected, f\"Expected {expected:#010x}, got {result:#010x}\"\n",
    "\n",
    "    print(\"All test cases passed!\")\n",
    "\n",
    "test_parity()\n",
    "\n",
    "\n",
    "# 2.\n",
    "def Ch(x, y, z):\n",
    "    x = np.uint32(x)\n",
    "    y = np.uint32(y)\n",
    "    z = np.uint32(z)\n",
    "\n",
    "    # if bit of x is 1, then the output is taken from y but\n",
    "    # if bit of x is 0, then the output is taken from z.\n",
    "    return np.uint32((x & y) ^ ((~x & (0xFFFFFFFF) & z)))\n",
    "\n",
    "def test_ch():\n",
    "    # test for all 0's\n",
    "    assert Ch(0x00000000, 0x00000000, 0x00000000) == np.uint32(0x00000000)\n",
    "\n",
    "    # test for all 1's\n",
    "    assert Ch(0xFFFFFFFF, 0xFFFFFFFF, 0xFFFFFFFF) == np.uint32(0xFFFFFFFF)\n",
    "\n",
    "    # test for mixed numbers\n",
    "    assert Ch(0xAAAAAAAA, 0x55555555, 0xFFFFFFFF) == np.uint32(0x55555555)\n",
    "    \n",
    "    \n",
    "    a = np.uint32(0b10101010_10101010_10101010_10101010)\n",
    "    b = np.uint32(0b01010101_01010101_01010101_01010101)\n",
    "    c = np.uint32(0xFFFFFFFF)\n",
    "    result = Ch(a, b, c)\n",
    "    expected = np.uint32(0x55555555)\n",
    "    assert result == expected, f\"Expected {expected:#010x}, got {result:#010x}\"\n",
    "\n",
    "    print(\"All test cases passed!\")\n",
    "\n",
    "test_ch()  \n",
    "\n",
    "\n",
    "# 3.\n",
    "def Maj(x, y, z):\n",
    "    x = np.uint32(x)\n",
    "    y = np.uint32(y)\n",
    "    z = np.uint32(z)\n",
    "\n",
    "    # For each bit: output is 1 if at least two of {x, y, z} are 1, otherwise 0\n",
    "    return np.uint32((x & y) ^ (x & z) ^ (y & z))\n",
    "\n",
    "def test_maj():\n",
    "    # test for all 0's\n",
    "    assert Maj(0x00000000, 0x00000000, 0x00000000) == np.uint32(0x00000000)\n",
    "\n",
    "    # test for all 1's\n",
    "    assert Maj(0xFFFFFFFF, 0xFFFFFFFF, 0xFFFFFFFF) == np.uint32(0xFFFFFFFF)\n",
    "\n",
    "    # test for largest word\n",
    "    assert Maj(0x55555555, 0x55555555, 0xFFFFFFFF) == np.uint32(0x55555555)\n",
    "    \n",
    "    \n",
    "    a = np.uint32(0b10101010_10101010_10101010_10101010)\n",
    "    b = np.uint32(0b01010101_01010101_01010101_01010101)\n",
    "    c = np.uint32(0xFFFFFFFF)\n",
    "    result = Maj(a, b, c)\n",
    "    expected = np.uint32(0xFFFFFFFF)\n",
    "    assert result == expected, f\"Expected {expected:#010x}, got {result:#010x}\"\n",
    "\n",
    "    print(\"All test cases passed!\")\n",
    "\n",
    "test_maj()  \n",
    "    \n",
    "\n",
    "# 4.\n",
    "# shifts x to the right by n bits, filling left with 0\n",
    "# shifts x to the left by 32-n bits to wrap around the bits for rotation\n",
    "def rotr(x, n):\n",
    "    x = np.uint32(x)\n",
    "    return np.uint32((x >> n) | (x << (32 - n)) & 0xFFFFFFFF)\n",
    "    \n",
    "\n",
    "# implments big sigma 0 by rotating the word 2, 13, 22 bits to the right\n",
    "def Sigma0(x):\n",
    "    x = np.uint32(x)\n",
    "    return rotr(x, 2) ^ rotr(x, 13) ^ rotr(x, 22)\n",
    "\n",
    "def test_sigma0():\n",
    "    x = np.uint32(0x12345678)\n",
    "    result = Sigma0(x)\n",
    "    print(f\"Sigma0(0x{x:08X}) = 0x{result:08X}\")\n",
    "\n",
    "test_sigma0()\n",
    "\n",
    "\n",
    "# 5.\n",
    "# implements big sigma 1 by rotating the word 2, 13, 22 bits to the right\n",
    "def Sigma1(x):\n",
    "    x = np.uint32(x)\n",
    "    return rotr(x, 6) ^ rotr(x, 11) ^ rotr(x, 25)\n",
    "\n",
    "def test_sigma1():\n",
    "    x = np.uint32(0x12345678)\n",
    "    result = Sigma1(x)\n",
    "    print(f\"Sigma0(0x{x:08X}) = 0x{result:08X}\")\n",
    "\n",
    "test_sigma1()\n",
    "\n",
    "\n",
    "# 6.\n",
    "# shifts x to the right by n bits, filling left with 0\n",
    "def shr(x, n):\n",
    "    x = np.uint32(x)\n",
    "    return np.uint32(x >> n)\n",
    "\n",
    "# implements small sigma 0 by rotating the word 7, 18, 3 bits to the right\n",
    "def sigma0(x):\n",
    "    x = np.uint32(x)\n",
    "    return rotr(x, 7) ^ rotr(x, 18) ^ shr(x, 3)\n",
    "\n",
    "x = np.uint32(0x12345678)\n",
    "result = sigma0(x)\n",
    "print(f\"sigma0(0x{x:08X}) = 0x{result:08X}\")\n",
    "\n",
    "\n",
    "# 7. \n",
    "# implements small sigma 1 by rotating the word 17, 19, 10 bits to the right\n",
    "def sigma1(x):\n",
    "    x = np.uint32(x)\n",
    "    return rotr(x, 17) ^ rotr(x, 19) ^ shr(x, 10)\n",
    "\n",
    "x = np.uint32(0x12345678)\n",
    "result = sigma1(x)\n",
    "print(f\"sigma0(0x{x:08X}) = 0x{result:08X}\")\n",
    "\n",
    "\n",
    "    \n",
    "    \n",
    "\n"
   ]
  },
  {
   "cell_type": "markdown",
   "id": "7d7a0c23",
   "metadata": {},
   "source": [
    "# Computational Theory Problems\n",
    "\n",
    "This notebook contains solutions to several computational theory problems, each with explanations and concise, reproducible code."
   ]
  },
  {
   "cell_type": "markdown",
   "id": "29a1d8de",
   "metadata": {},
   "source": [
    "## 1. Parity Function\n",
    "\n",
    "This function checks if an odd number of the three inputs is 1. If so, it returns 1; otherwise, it returns 0. The implementation uses bitwise XOR to achieve this."
   ]
  },
  {
   "cell_type": "code",
   "execution_count": 8,
   "id": "439cd2f7",
   "metadata": {},
   "outputs": [
    {
     "name": "stdout",
     "output_type": "stream",
     "text": [
      "All test cases passed!\n"
     ]
    }
   ],
   "source": [
    "def Parity(x, y, z):\n",
    "    \"\"\"Returns 1 if an odd number of the three inputs is 1, else 0 (bitwise XOR).\"\"\"\n",
    "    x = np.uint32(x)\n",
    "    y = np.uint32(y)\n",
    "    z = np.uint32(z)\n",
    "    return x ^ y ^ z\n",
    "\n",
    "def test_parity():\n",
    "    # test for all 0's\n",
    "    assert Parity(0x00000000, 0x00000000, 0x00000000) == np.uint32(0x00000000)\n",
    "    # test for all 1's\n",
    "    assert Parity(0xFFFFFFFF, 0xFFFFFFFF, 0xFFFFFFFF) == np.uint32(0xFFFFFFFF)\n",
    "    # test for mixed numbers\n",
    "    assert Parity(0x0F0F0F0F, 0x33333333, 0x55555555) == np.uint32(0x69696969)\n",
    "    a = np.uint32(0b10101010_10101010_10101010_10101010)\n",
    "    b = np.uint32(0b01010101_01010101_01010101_01010101)\n",
    "    c = np.uint32(0xFFFFFFFF)\n",
    "    result = Parity(a, b, c)\n",
    "    expected = np.uint32(0x00000000)\n",
    "    assert result == expected, f\"Expected {expected:#010x}, got {result:#010x}\"\n",
    "    print(\"All test cases passed!\")\n",
    "\n",
    "test_parity()"
   ]
  },
  {
   "cell_type": "markdown",
   "id": "5f6396fa",
   "metadata": {},
   "source": [
    "## 2. Choice (Ch) Function\n",
    "\n",
    "The choice function returns the value of `y` where the corresponding bit of `x` is 1, and the value of `z` where the corresponding bit of `x` is 0. This is used in cryptographic hash functions."
   ]
  },
  {
   "cell_type": "code",
   "execution_count": 9,
   "id": "9eef7276",
   "metadata": {},
   "outputs": [
    {
     "name": "stdout",
     "output_type": "stream",
     "text": [
      "All test cases passed!\n"
     ]
    }
   ],
   "source": [
    "def Ch(x, y, z):\n",
    "    \"\"\"Returns y where x is 1, z where x is 0 (bitwise).\"\"\"\n",
    "    x = np.uint32(x)\n",
    "    y = np.uint32(y)\n",
    "    z = np.uint32(z)\n",
    "    return np.uint32((x & y) ^ ((~x & 0xFFFFFFFF) & z))\n",
    "\n",
    "def test_ch():\n",
    "    assert Ch(0x00000000, 0x00000000, 0x00000000) == np.uint32(0x00000000)\n",
    "    assert Ch(0xFFFFFFFF, 0xFFFFFFFF, 0xFFFFFFFF) == np.uint32(0xFFFFFFFF)\n",
    "    assert Ch(0xAAAAAAAA, 0x55555555, 0xFFFFFFFF) == np.uint32(0x55555555)\n",
    "    a = np.uint32(0b10101010_10101010_10101010_10101010)\n",
    "    b = np.uint32(0b01010101_01010101_01010101_01010101)\n",
    "    c = np.uint32(0xFFFFFFFF)\n",
    "    result = Ch(a, b, c)\n",
    "    expected = np.uint32(0x55555555)\n",
    "    assert result == expected, f\"Expected {expected:#010x}, got {result:#010x}\"\n",
    "    print(\"All test cases passed!\")\n",
    "\n",
    "test_ch()"
   ]
  },
  {
   "cell_type": "markdown",
   "id": "c8770464",
   "metadata": {},
   "source": [
    "## 3. Majority (Maj) Function\n",
    "\n",
    "The majority function returns 1 for each bit position where at least two of the three inputs are 1. This is also used in cryptographic hash functions."
   ]
  },
  {
   "cell_type": "code",
   "execution_count": 10,
   "id": "7e50690d",
   "metadata": {},
   "outputs": [
    {
     "name": "stdout",
     "output_type": "stream",
     "text": [
      "All test cases passed!\n"
     ]
    }
   ],
   "source": [
    "def Maj(x, y, z):\n",
    "    \"\"\"Returns 1 for each bit where at least two of x, y, z are 1.\"\"\"\n",
    "    x = np.uint32(x)\n",
    "    y = np.uint32(y)\n",
    "    z = np.uint32(z)\n",
    "    return np.uint32((x & y) ^ (x & z) ^ (y & z))\n",
    "\n",
    "def test_maj():\n",
    "    assert Maj(0x00000000, 0x00000000, 0x00000000) == np.uint32(0x00000000)\n",
    "    assert Maj(0xFFFFFFFF, 0xFFFFFFFF, 0xFFFFFFFF) == np.uint32(0xFFFFFFFF)\n",
    "    assert Maj(0x55555555, 0x55555555, 0xFFFFFFFF) == np.uint32(0x55555555)\n",
    "    a = np.uint32(0b10101010_10101010_10101010_10101010)\n",
    "    b = np.uint32(0b01010101_01010101_01010101_01010101)\n",
    "    c = np.uint32(0xFFFFFFFF)\n",
    "    result = Maj(a, b, c)\n",
    "    expected = np.uint32(0xFFFFFFFF)\n",
    "    assert result == expected, f\"Expected {expected:#010x}, got {result:#010x}\"\n",
    "    print(\"All test cases passed!\")\n",
    "\n",
    "test_maj()"
   ]
  },
  {
   "cell_type": "markdown",
   "id": "e0700f0e",
   "metadata": {},
   "source": [
    "## 4. Bitwise Rotations and Sigma0\n",
    "\n",
    "The `rotr` function rotates a 32-bit word to the right by `n` bits. `Sigma0` is a cryptographic function that combines three right rotations (by 2, 13, and 22 bits) using XOR."
   ]
  },
  {
   "cell_type": "code",
   "execution_count": null,
   "id": "27295e29",
   "metadata": {},
   "outputs": [],
   "source": [
    "def rotr(x, n):\n",
    "    \"\"\"Rotate right: shifts x to the right by n bits, wrapping around.\"\"\"\n",
    "    x = np.uint32(x)\n",
    "    return np.uint32((x >> n) | (x << (32 - n)) & 0xFFFFFFFF)\n",
    "\n",
    "def Sigma0(x):\n",
    "    \"\"\"Big Sigma0: rotr(x,2) ^ rotr(x,13) ^ rotr(x,22).\"\"\"\n",
    "    x = np.uint32(x)\n",
    "    return rotr(x, 2) ^ rotr(x, 13) ^ rotr(x, 22)\n",
    "\n",
    "def test_sigma0():\n",
    "    x = np.uint32(0x12345678)\n",
    "    result = Sigma0(x)\n",
    "    print(f\"Sigma0(0x{x:08X}) = 0x{result:08X}\")\n",
    "\n",
    "test_sigma0()"
   ]
  },
  {
   "cell_type": "markdown",
   "id": "e1ea1339",
   "metadata": {},
   "source": [
    "## 5. Big Sigma1 Function\n",
    "\n",
    "`Sigma1` is another cryptographic function, combining right rotations by 6, 11, and 25 bits using XOR."
   ]
  },
  {
   "cell_type": "code",
   "execution_count": null,
   "id": "80a88386",
   "metadata": {},
   "outputs": [],
   "source": [
    "def Sigma1(x):\n",
    "    \"\"\"Big Sigma1: rotr(x,6) ^ rotr(x,11) ^ rotr(x,25).\"\"\"\n",
    "    x = np.uint32(x)\n",
    "    return rotr(x, 6) ^ rotr(x, 11) ^ rotr(x, 25)\n",
    "\n",
    "def test_sigma1():\n",
    "    x = np.uint32(0x12345678)\n",
    "    result = Sigma1(x)\n",
    "    print(f\"Sigma1(0x{x:08X}) = 0x{result:08X}\")\n",
    "\n",
    "test_sigma1()"
   ]
  },
  {
   "cell_type": "markdown",
   "id": "37d993c3",
   "metadata": {},
   "source": [
    "## 6. Small sigma0 Function\n",
    "\n",
    "The `shr` function shifts a 32-bit word to the right by `n` bits, filling with zeros. `sigma0` combines right rotations by 7 and 18 bits and a right shift by 3 bits using XOR."
   ]
  },
  {
   "cell_type": "code",
   "execution_count": null,
   "id": "18573b15",
   "metadata": {},
   "outputs": [],
   "source": [
    "def shr(x, n):\n",
    "    \"\"\"Shift right: shifts x to the right by n bits, filling with 0.\"\"\"\n",
    "    x = np.uint32(x)\n",
    "    return np.uint32(x >> n)\n",
    "\n",
    "def sigma0(x):\n",
    "    \"\"\"Small sigma0: rotr(x,7) ^ rotr(x,18) ^ shr(x,3).\"\"\"\n",
    "    x = np.uint32(x)\n",
    "    return rotr(x, 7) ^ rotr(x, 18) ^ shr(x, 3)\n",
    "\n",
    "x = np.uint32(0x12345678)\n",
    "result = sigma0(x)\n",
    "print(f\"sigma0(0x{x:08X}) = 0x{result:08X}\")"
   ]
  },
  {
   "cell_type": "markdown",
   "id": "73a501c9",
   "metadata": {},
   "source": [
    "## 7. Small sigma1 Function\n",
    "\n",
    "`sigma1` combines right rotations by 17 and 19 bits and a right shift by 10 bits using XOR."
   ]
  },
  {
   "cell_type": "code",
   "execution_count": null,
   "id": "c92bede4",
   "metadata": {},
   "outputs": [],
   "source": [
    "def sigma1(x):\n",
    "    \"\"\"Small sigma1: rotr(x,17) ^ rotr(x,19) ^ shr(x,10).\"\"\"\n",
    "    x = np.uint32(x)\n",
    "    return rotr(x, 17) ^ rotr(x, 19) ^ shr(x, 10)\n",
    "\n",
    "x = np.uint32(0x12345678)\n",
    "result = sigma1(x)\n",
    "print(f\"sigma1(0x{x:08X}) = 0x{result:08X}\")"
   ]
  }
 ],
 "metadata": {
  "kernelspec": {
   "display_name": "Python 3",
   "language": "python",
   "name": "python3"
  },
  "language_info": {
   "codemirror_mode": {
    "name": "ipython",
    "version": 3
   },
   "file_extension": ".py",
   "mimetype": "text/x-python",
   "name": "python",
   "nbconvert_exporter": "python",
   "pygments_lexer": "ipython3",
   "version": "3.12.1"
  }
 },
 "nbformat": 4,
 "nbformat_minor": 5
}
