{
 "cells": [
  {
   "cell_type": "markdown",
   "id": "7d7a0c23",
   "metadata": {},
   "source": [
    "# Computational Theory Problems\n",
    "\n",
    "This notebook contains the solutions to the Computional Theory problems 1 - 7. It contains markdown cells explaining the code in code cells."
   ]
  },
  {
   "cell_type": "markdown",
   "id": "c1e31771",
   "metadata": {},
   "source": [
    "## Problem 1: Binary Words and Operations"
   ]
  },
  {
   "cell_type": "markdown",
   "id": "29a1d8de",
   "metadata": {},
   "source": [
    "## Problem 1 (part 1) Parity Function\n",
    "\n",
    "This function checks if an odd number of the three inputs is 1. If so, it returns 1; otherwise, it returns 0. The implementation uses bitwise XOR to achieve this."
   ]
  },
  {
   "cell_type": "code",
   "execution_count": 1,
   "id": "439cd2f7",
   "metadata": {},
   "outputs": [
    {
     "name": "stdout",
     "output_type": "stream",
     "text": [
      "All test cases passed!\n"
     ]
    }
   ],
   "source": [
    "import numpy as np\n",
    "import IPython as ipy\n",
    "import scipy as sc\n",
    "import statsmodels.api as sm\n",
    "import matplotlib as mpl \n",
    "import pandas as pd \n",
    "import seaborn as sb \n",
    "import sympy as sym \n",
    "import nose2 as ns \n",
    "import sklearn as scl \n",
    "from qiskit.visualization import plot_histogram as ph\n",
    "import yfinance as yf\n",
    "\n",
    "def Parity(x, y, z):\n",
    "    \"\"\"Returns 1 if an odd number of the three inputs is 1, else 0 (bitwise XOR).\"\"\"\n",
    "    x = np.uint32(x)\n",
    "    y = np.uint32(y)\n",
    "    z = np.uint32(z)\n",
    "    return x ^ y ^ z\n",
    "\n",
    "def test_parity():\n",
    "    # test for all 0's\n",
    "    assert Parity(0x00000000, 0x00000000, 0x00000000) == np.uint32(0x00000000)\n",
    "    # test for all 1's\n",
    "    assert Parity(0xFFFFFFFF, 0xFFFFFFFF, 0xFFFFFFFF) == np.uint32(0xFFFFFFFF)\n",
    "    # test for mixed numbers\n",
    "    assert Parity(0x0F0F0F0F, 0x33333333, 0x55555555) == np.uint32(0x69696969)\n",
    "    a = np.uint32(0b10101010_10101010_10101010_10101010)\n",
    "    b = np.uint32(0b01010101_01010101_01010101_01010101)\n",
    "    c = np.uint32(0xFFFFFFFF)\n",
    "    result = Parity(a, b, c)\n",
    "    expected = np.uint32(0x00000000)\n",
    "    assert result == expected, f\"Expected {expected:#010x}, got {result:#010x}\"\n",
    "    print(\"All test cases passed!\")\n",
    "\n",
    "test_parity()"
   ]
  },
  {
   "cell_type": "markdown",
   "id": "5f6396fa",
   "metadata": {},
   "source": [
    "## Problem 1 (part 2) Choice (Ch) Function\n",
    "\n",
    "The choice function returns the value of `y` where the corresponding bit of `x` is 1, and the value of `z` where the corresponding bit of `x` is 0. This is used in cryptographic hash functions."
   ]
  },
  {
   "cell_type": "code",
   "execution_count": null,
   "id": "9eef7276",
   "metadata": {},
   "outputs": [],
   "source": [
    "def Ch(x, y, z):\n",
    "    \"\"\"Returns y where x is 1, z where x is 0 (bitwise).\"\"\"\n",
    "    x = np.uint32(x)\n",
    "    y = np.uint32(y)\n",
    "    z = np.uint32(z)\n",
    "    return np.uint32((x & y) ^ ((~x & 0xFFFFFFFF) & z))\n",
    "\n",
    "def test_ch():\n",
    "    assert Ch(0x00000000, 0x00000000, 0x00000000) == np.uint32(0x00000000)\n",
    "    assert Ch(0xFFFFFFFF, 0xFFFFFFFF, 0xFFFFFFFF) == np.uint32(0xFFFFFFFF)\n",
    "    assert Ch(0xAAAAAAAA, 0x55555555, 0xFFFFFFFF) == np.uint32(0x55555555)\n",
    "    a = np.uint32(0b10101010_10101010_10101010_10101010)\n",
    "    b = np.uint32(0b01010101_01010101_01010101_01010101)\n",
    "    c = np.uint32(0xFFFFFFFF)\n",
    "    result = Ch(a, b, c)\n",
    "    expected = np.uint32(0x55555555)\n",
    "    assert result == expected, f\"Expected {expected:#010x}, got {result:#010x}\"\n",
    "    print(\"All test cases passed!\")\n",
    "\n",
    "test_ch()"
   ]
  },
  {
   "cell_type": "markdown",
   "id": "c8770464",
   "metadata": {},
   "source": [
    "## Problem 1 (part 3) Majority (Maj) Function\n",
    "\n",
    "The majority function returns 1 for each bit position where at least two of the three inputs are 1. This is also used in cryptographic hash functions."
   ]
  },
  {
   "cell_type": "code",
   "execution_count": 10,
   "id": "7e50690d",
   "metadata": {},
   "outputs": [
    {
     "name": "stdout",
     "output_type": "stream",
     "text": [
      "All test cases passed!\n"
     ]
    }
   ],
   "source": [
    "def Maj(x, y, z):\n",
    "    \"\"\"Returns 1 for each bit where at least two of x, y, z are 1.\"\"\"\n",
    "    x = np.uint32(x)\n",
    "    y = np.uint32(y)\n",
    "    z = np.uint32(z)\n",
    "    return np.uint32((x & y) ^ (x & z) ^ (y & z))\n",
    "\n",
    "def test_maj():\n",
    "    assert Maj(0x00000000, 0x00000000, 0x00000000) == np.uint32(0x00000000)\n",
    "    assert Maj(0xFFFFFFFF, 0xFFFFFFFF, 0xFFFFFFFF) == np.uint32(0xFFFFFFFF)\n",
    "    assert Maj(0x55555555, 0x55555555, 0xFFFFFFFF) == np.uint32(0x55555555)\n",
    "    a = np.uint32(0b10101010_10101010_10101010_10101010)\n",
    "    b = np.uint32(0b01010101_01010101_01010101_01010101)\n",
    "    c = np.uint32(0xFFFFFFFF)\n",
    "    result = Maj(a, b, c)\n",
    "    expected = np.uint32(0xFFFFFFFF)\n",
    "    assert result == expected, f\"Expected {expected:#010x}, got {result:#010x}\"\n",
    "    print(\"All test cases passed!\")\n",
    "\n",
    "test_maj()"
   ]
  },
  {
   "cell_type": "markdown",
   "id": "e0700f0e",
   "metadata": {},
   "source": [
    "## Problem 1 (part 4) Bitwise Rotations and Sigma0\n",
    "\n",
    "The `rotr` function rotates a 32-bit word to the right by `n` bits. `Sigma0` is a cryptographic function that combines three right rotations (by 2, 13, and 22 bits) using XOR."
   ]
  },
  {
   "cell_type": "code",
   "execution_count": null,
   "id": "27295e29",
   "metadata": {},
   "outputs": [],
   "source": [
    "def rotr(x, n):\n",
    "    \"\"\"Rotate right: shifts x to the right by n bits, wrapping around.\"\"\"\n",
    "    x = np.uint32(x)\n",
    "    return np.uint32((x >> n) | (x << (32 - n)) & 0xFFFFFFFF)\n",
    "\n",
    "def Sigma0(x):\n",
    "    \"\"\"Big Sigma0: rotr(x,2) ^ rotr(x,13) ^ rotr(x,22).\"\"\"\n",
    "    x = np.uint32(x)\n",
    "    return rotr(x, 2) ^ rotr(x, 13) ^ rotr(x, 22)\n",
    "\n",
    "def test_sigma0():\n",
    "    x = np.uint32(0x12345678)\n",
    "    result = Sigma0(x)\n",
    "    print(f\"Sigma0(0x{x:08X}) = 0x{result:08X}\")\n",
    "\n",
    "test_sigma0()"
   ]
  },
  {
   "cell_type": "markdown",
   "id": "e1ea1339",
   "metadata": {},
   "source": [
    "## Problem 1 (part 5) Big Sigma1 Function\n",
    "\n",
    "`Sigma1` is another cryptographic function, combining right rotations by 6, 11, and 25 bits using XOR."
   ]
  },
  {
   "cell_type": "code",
   "execution_count": null,
   "id": "80a88386",
   "metadata": {},
   "outputs": [],
   "source": [
    "def Sigma1(x):\n",
    "    \"\"\"Big Sigma1: rotr(x,6) ^ rotr(x,11) ^ rotr(x,25).\"\"\"\n",
    "    x = np.uint32(x)\n",
    "    return rotr(x, 6) ^ rotr(x, 11) ^ rotr(x, 25)\n",
    "\n",
    "x = np.uint32(0x12345678)\n",
    "result = Sigma1(x)\n",
    "print(f\"Sigma1(0x{x:08X}) = 0x{result:08X}\")\n",
    "\n"
   ]
  },
  {
   "cell_type": "markdown",
   "id": "37d993c3",
   "metadata": {},
   "source": [
    "## Problem 1 (part 6) Small sigma0 Function\n",
    "\n",
    "The `shr` function shifts a 32-bit word to the right by `n` bits, filling with zeros. `sigma0` combines right rotations by 7 and 18 bits and a right shift by 3 bits using XOR."
   ]
  },
  {
   "cell_type": "code",
   "execution_count": null,
   "id": "18573b15",
   "metadata": {},
   "outputs": [],
   "source": [
    "def shr(x, n):\n",
    "    \"\"\"Shift right: shifts x to the right by n bits, filling with 0.\"\"\"\n",
    "    x = np.uint32(x)\n",
    "    return np.uint32(x >> n)\n",
    "\n",
    "def sigma0(x):\n",
    "    \"\"\"Small sigma0: rotr(x,7) ^ rotr(x,18) ^ shr(x,3).\"\"\"\n",
    "    x = np.uint32(x)\n",
    "    return rotr(x, 7) ^ rotr(x, 18) ^ shr(x, 3)\n",
    "\n",
    "x = np.uint32(0x12345678)\n",
    "result = sigma0(x)\n",
    "print(f\"sigma0(0x{x:08X}) = 0x{result:08X}\")"
   ]
  },
  {
   "cell_type": "markdown",
   "id": "73a501c9",
   "metadata": {},
   "source": [
    "## Problem 1 (part 7) Small sigma1 Function\n",
    "\n",
    "`sigma1` combines right rotations by 17 and 19 bits and a right shift by 10 bits using XOR."
   ]
  },
  {
   "cell_type": "code",
   "execution_count": null,
   "id": "369cd4a7-2f0d-4b20-84e0-d7c746d9ed0a",
   "metadata": {},
   "outputs": [
    {
     "ename": "",
     "evalue": "",
     "output_type": "error",
     "traceback": [
      "\u001b[1;31mRunning cells with 'Python 3.13.3' requires the ipykernel package.\n",
      "\u001b[1;31m<a href='command:jupyter.createPythonEnvAndSelectController'>Create a Python Environment</a> with the required packages."
     ]
    }
   ],
   "source": [
    "def sigma1(x):\n",
    "    \"\"\"Small sigma1: rotr(x,17) ^ rotr(x,19) ^ shr(x,10).\"\"\"\n",
    "    x = np.uint32(x)\n",
    "    return rotr(x, 17) ^ rotr(x, 19) ^ shr(x, 10)\n",
    "\n",
    "x = np.uint32(0x12345678)\n",
    "result = sigma1(x)\n",
    "print(f\"sigma1(0x{x:08X}) = 0x{result:08X}\")"
   ]
  },
  {
   "attachments": {},
   "cell_type": "markdown",
   "id": "e803082b",
   "metadata": {},
   "source": [
    "## Problem 2 (part 1) Generating the first n prime numbers"
   ]
  },
  {
   "cell_type": "markdown",
   "id": "6e995b6f",
   "metadata": {},
   "source": [
    "## Generates the first n prime numbers by checking each candidate number in order. For each candidate, it tests divisibility only by previously found primes that are less than or equal to the square root of the candidate. If the candidate is not divisible by any of these primes, it is added to the list of primes."
   ]
  },
  {
   "cell_type": "code",
   "execution_count": 17,
   "id": "e03a7c1c",
   "metadata": {},
   "outputs": [
    {
     "name": "stdout",
     "output_type": "stream",
     "text": [
      "All test cases passed!\n"
     ]
    }
   ],
   "source": [
    "def Primes(n):\n",
    "    \"\"\"Generates the first n prime numbers using NumPy.\"\"\"\n",
    "    if n == 0:\n",
    "        return []\n",
    "    \n",
    "    primes_list = [2]\n",
    "    candidate = 3\n",
    "    \n",
    "    while len(primes_list) < n:\n",
    "        # Converts the current list of primes to a NumPy array for vectorized operations\n",
    "        primes_array = np.array(primes_list)\n",
    "        # checks divisibility for primes <= sqrt(candidate)\n",
    "        primes_array = primes_array[primes_array <= np.sqrt(candidate)]\n",
    "        \n",
    "        # Vectorized divisibility check\n",
    "        if not np.any(candidate % primes_array == 0):\n",
    "            primes_list.append(candidate)\n",
    "        \n",
    "        candidate += 2  # Skip even numbers\n",
    "    \n",
    "    return primes_list\n",
    "    \n",
    "def test_primes():\n",
    "    # test for prime number in list\n",
    "    assert Primes(2) == [2, 3]\n",
    "    \n",
    "    # test for even number in list\n",
    "    assert Primes(4) == [2, 3, 5, 7]\n",
    "\n",
    "    # test for first prime\n",
    "    assert Primes(1) == [2]\n",
    "\n",
    "    print(\"All test cases passed!\")\n",
    "\n",
    "test_primes()"
   ]
  },
  {
   "cell_type": "markdown",
   "id": "37816ef4",
   "metadata": {},
   "source": [
    "## Problem 2 (part 2) Cube Root of the First 64 Primes"
   ]
  },
  {
   "cell_type": "markdown",
   "id": "243302a1",
   "metadata": {},
   "source": [
    "## Calculates the cube root of the first n primes by converting the primes list to an array and taking the cube root. "
   ]
  },
  {
   "cell_type": "code",
   "execution_count": 18,
   "id": "726aae94-95c9-412a-a3b9-06f78bc40e51",
   "metadata": {},
   "outputs": [
    {
     "name": "stdout",
     "output_type": "stream",
     "text": [
      "All test cases passed!\n"
     ]
    }
   ],
   "source": [
    "def cube_roots_of_primes(n):\n",
    "    \"\"\"Generates the cube roots of the first n prime numbers.\"\"\"\n",
    "    primes = np.array(Primes(n))\n",
    "    cube_roots = primes ** (1/3)\n",
    "    return cube_roots\n",
    "    \n",
    "def test_cube_roots_of_primes():\n",
    "    # Test 1: Test for first 2 primes\n",
    "    roots_2 = cube_roots_of_primes(2)\n",
    "    expected_2 = np.array([2 ** (1/3), 3 ** (1/3)])\n",
    "    \n",
    "    # I use allclose() function to compare cube roots becuase the floats cannot be exact e.g 1.259921049.....\n",
    "    assert np.allclose(roots_2, expected_2, rtol=1e-4), f\"Expected {expected_2}, got {roots_2}\"\n",
    "    \n",
    "    # Test 2: Test for first 4 primes\n",
    "    roots_4 = cube_roots_of_primes(4)\n",
    "    expected_4 = np.array([2 ** (1/3), 3 ** (1/3), 5 ** (1/3), 7 ** (1/3)])\n",
    "    assert np.allclose(roots_4, expected_4, rtol=1e-4), f\"Expected {expected_4}, got {roots_4}\"\n",
    "    \n",
    "    # Test 3: Test for first prime\n",
    "    roots_1 = cube_roots_of_primes(1)\n",
    "    expected_1 = np.array([2 ** (1/3)])\n",
    "    assert np.allclose(roots_1, expected_1, rtol=1e-4), f\"Expected {expected_1}, got {roots_1}\"\n",
    "    \n",
    "    print(\"All test cases passed!\")\n",
    "\n",
    "test_cube_roots_of_primes()"
   ]
  },
  {
   "cell_type": "markdown",
   "id": "b55e9701",
   "metadata": {},
   "source": [
    "## Problem 2 (part 3) The First Thirty-Two Bits of the Fractional Part"
   ]
  },
  {
   "cell_type": "markdown",
   "id": "de2c5b28",
   "metadata": {},
   "source": [
    "## Subtracts the integer part from the fractional part, leaving just fractional part. \n",
    "## While looping through the the first 32 bits, the fractional part is multiplied by 2\n",
    "## so if it's greater than 1, the integer part is 1, which becomes the next binary bit.\n",
    "## if it's less than 1, the integer part is 0, which becomes the next binary bit.\n",
    "## The integer part which is now either 0 or 1 can be stored in a list, and the integer\n",
    "## part is subtracted again, so to prepare the fractional part for the next iteration of the loop."
   ]
  },
  {
   "cell_type": "code",
   "execution_count": 11,
   "id": "3fe924e5-be3e-4a98-8aa7-ac3d55d4a05e",
   "metadata": {},
   "outputs": [
    {
     "name": "stdout",
     "output_type": "stream",
     "text": [
      "All test cases passed!\n"
     ]
    }
   ],
   "source": [
    "def first_32_bits_fractional(x):\n",
    "    \"\"\"Generates the first 32 bits of the fractional part of x in binary.\"\"\"\n",
    "    frac = x - int(x)\n",
    "    bits = []\n",
    "    for _ in range(32):\n",
    "        frac *= 2\n",
    "        bit = int(frac)\n",
    "        bits.append(bit)\n",
    "        frac -= bit\n",
    "    return bits\n",
    "\n",
    "def cube_root_bits_of_primes(n):\n",
    "    primes = np.array(Primes(n))\n",
    "    cube_roots = primes ** (1/3)\n",
    "    all_bits = [first_32_bits_fractional(root) for root in cube_roots]\n",
    "    return all_bits\n",
    "\n",
    "def test_first_32_bits_fractional():\n",
    "    # Test 1: test for fraction with non-leading zero\n",
    "    x = 1.5\n",
    "    expected = [1] + [0]*31\n",
    "    result = first_32_bits_fractional(x)\n",
    "    assert result == expected, f\"Test 1 failed: {result}\"\n",
    "    \n",
    "    # Test 2: test for fraction with leading zero\n",
    "    x = 1.25   # fractional part = 0.25 → binary 0.01\n",
    "    expected = [0, 1] + [0]*30\n",
    "    result = first_32_bits_fractional(x)\n",
    "    assert result == expected, f\"Test 2 failed: {result}\"\n",
    "    \n",
    "    # Test 3: test for 32 bit length list\n",
    "    x = 3.1415926\n",
    "    result = first_32_bits_fractional(x)\n",
    "    assert len(result) == 32, f\"Test 3 failed: length {len(result)}\"\n",
    "    \n",
    "    # Test 4: test only 0s and 1s\n",
    "    x = 2.71828\n",
    "    result = first_32_bits_fractional(x)\n",
    "    assert all(bit in [0, 1] for bit in result), f\"Test 4 failed: {result}\"\n",
    "    \n",
    "    print(\"All test cases passed!\")\n",
    "\n",
    "test_first_32_bits_fractional()\n",
    "    "
   ]
  },
  {
   "cell_type": "markdown",
   "id": "81e52d3c",
   "metadata": {},
   "source": [
    "## Problem 2 (part 4) The Result in Hexadecimal"
   ]
  },
  {
   "cell_type": "code",
   "execution_count": null,
   "id": "66de0e0e",
   "metadata": {},
   "outputs": [
    {
     "ename": "",
     "evalue": "",
     "output_type": "error",
     "traceback": [
      "\u001b[1;31mRunning cells with 'Python 3.12.12' requires the ipykernel package.\n",
      "\u001b[1;31m<a href='command:jupyter.createPythonEnvAndSelectController'>Create a Python Environment</a> with the required packages."
     ]
    }
   ],
   "source": [
    "hex(first_32_bits_fractional)"
   ]
  },
  {
   "cell_type": "markdown",
   "id": "b642b977",
   "metadata": {},
   "source": [
    "## Problem 2 (part 5) Results Tested Against What is in the Secure Hash Standard"
   ]
  },
  {
   "cell_type": "markdown",
   "id": "dedfbd70",
   "metadata": {},
   "source": [
    "## Problem 3: Padding\n"
   ]
  },
  {
   "cell_type": "markdown",
   "id": "a19c86e7",
   "metadata": {},
   "source": [
    "## Problem 4: Hashes\n"
   ]
  },
  {
   "cell_type": "markdown",
   "id": "e50ee786",
   "metadata": {},
   "source": [
    "## Problem 5: Passwords\n"
   ]
  },
  {
   "cell_type": "markdown",
   "id": "737fca93",
   "metadata": {},
   "source": [
    "## End"
   ]
  }
 ],
 "metadata": {
  "kernelspec": {
   "display_name": "Python 3",
   "language": "python",
   "name": "python3"
  },
  "language_info": {
   "codemirror_mode": {
    "name": "ipython",
    "version": 3
   },
   "file_extension": ".py",
   "mimetype": "text/x-python",
   "name": "python",
   "nbconvert_exporter": "python",
   "pygments_lexer": "ipython3",
   "version": "3.12.12"
  }
 },
 "nbformat": 4,
 "nbformat_minor": 5
}
