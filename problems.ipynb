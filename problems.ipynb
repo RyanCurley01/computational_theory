{
 "cells": [
  {
   "cell_type": "code",
   "execution_count": 25,
   "id": "e57746fd",
   "metadata": {},
   "outputs": [
    {
     "name": "stdout",
     "output_type": "stream",
     "text": [
      "All test cases passed!\n",
      "All test cases passed!\n"
     ]
    }
   ],
   "source": [
    "import numpy as np\n",
    "\n",
    "# problems\n",
    "\n",
    "## 1.\n",
    "def Parity(x, y, z):\n",
    "    x = np.uint32(x)\n",
    "    y = np.uint32(y)\n",
    "    z = np.uint32(z)\n",
    "    \n",
    "    return x ^ y ^ z\n",
    "\n",
    "\n",
    "def test_parity():\n",
    "    assert Parity(0x00000000, 0x00000000, 0x00000000) == np.uint32(0x00000000)\n",
    "    \n",
    "    assert Parity(0xFFFFFFFF, 0xFFFFFFFF, 0xFFFFFFFF) == np.uint32(0xFFFFFFFF)\n",
    "    \n",
    "    assert Parity(0x0F0F0F0F, 0x33333333, 0x55555555) == np.uint32(0x69696969)\n",
    "    \n",
    "    \n",
    "    a = np.uint32(0b10101010_10101010_10101010_10101010)\n",
    "    b = np.uint32(0b01010101_01010101_01010101_01010101)\n",
    "    c = np.uint32(0xFFFFFFFF)\n",
    "    result = Parity(a, b, c)\n",
    "    expected = np.uint32(0x00000000)\n",
    "    assert result == expected, f\"Expected {expected:#010x}, got {result:#010x}\"\n",
    "\n",
    "    print(\"All test cases passed!\")\n",
    "\n",
    "test_parity()\n",
    "\n",
    "\n",
    "##2\n",
    "def Ch(x, y, z):\n",
    "    x = np.uint32(x)\n",
    "    y = np.uint32(y)\n",
    "    z = np.uint32(z)\n",
    "    \n",
    "    return np.uint32((x & y) ^ ((~x & (0xFFFFFFFF) & z)))\n",
    "\n",
    "def test_ch():\n",
    "    assert Ch(0x00000000, 0x00000000, 0x00000000) == np.uint32(0x00000000)\n",
    "    \n",
    "    assert Ch(0xFFFFFFFF, 0xFFFFFFFF, 0xFFFFFFFF) == np.uint32(0xFFFFFFFF)\n",
    "    \n",
    "    assert Ch(0xAAAAAAAA, 0x55555555, 0xFFFFFFFF) == np.uint32(0x55555555)\n",
    "    \n",
    "    \n",
    "    a = np.uint32(0b10101010_10101010_10101010_10101010)\n",
    "    b = np.uint32(0b01010101_01010101_01010101_01010101)\n",
    "    c = np.uint32(0xFFFFFFFF)\n",
    "    result = Ch(a, b, c)\n",
    "    expected = np.uint32(0x55555555)\n",
    "    assert result == expected, f\"Expected {expected:#010x}, got {result:#010x}\"\n",
    "\n",
    "    print(\"All test cases passed!\")\n",
    "\n",
    "test_ch()  \n",
    "    \n",
    "    \n",
    "    \n",
    "    \n",
    "\n"
   ]
  },
  {
   "cell_type": "code",
   "execution_count": null,
   "id": "d963c725",
   "metadata": {},
   "outputs": [],
   "source": []
  }
 ],
 "metadata": {
  "kernelspec": {
   "display_name": "Python 3 (ipykernel)",
   "language": "python",
   "name": "python3"
  },
  "language_info": {
   "codemirror_mode": {
    "name": "ipython",
    "version": 3
   },
   "file_extension": ".py",
   "mimetype": "text/x-python",
   "name": "python",
   "nbconvert_exporter": "python",
   "pygments_lexer": "ipython3",
   "version": "3.11.4"
  }
 },
 "nbformat": 4,
 "nbformat_minor": 5
}
