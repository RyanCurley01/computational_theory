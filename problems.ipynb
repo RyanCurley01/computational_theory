{
 "cells": [
  {
   "cell_type": "markdown",
   "id": "7d7a0c23",
   "metadata": {},
   "source": [
    "# Computational Theory Problems\n",
    "\n",
    "This notebook contains the solutions to the Computional Theory problems 1 - 7. It contains markdown cells explaining the code in code cells."
   ]
  },
  {
   "cell_type": "markdown",
   "id": "c1e31771",
   "metadata": {},
   "source": [
    "## Problem 1: Binary Words and Operations"
   ]
  },
  {
   "cell_type": "markdown",
   "id": "29a1d8de",
   "metadata": {},
   "source": [
    "## Problem 1 (part 1) Parity Function\n",
    "\n",
    "This function checks if an odd number of the three inputs is 1. If so, it returns 1; otherwise, it returns 0. The implementation uses bitwise XOR to achieve this."
   ]
  },
  {
   "cell_type": "code",
   "execution_count": 1,
   "id": "439cd2f7",
   "metadata": {},
   "outputs": [
    {
     "name": "stdout",
     "output_type": "stream",
     "text": [
      "All test cases passed!\n"
     ]
    }
   ],
   "source": [
    "import numpy as np\n",
    "import IPython as ipy\n",
    "import scipy as sc\n",
    "import statsmodels.api as sm\n",
    "import matplotlib as mpl \n",
    "import pandas as pd \n",
    "import seaborn as sb \n",
    "import sympy as sym \n",
    "import nose2 as ns \n",
    "import sklearn as scl \n",
    "from qiskit.visualization import plot_histogram as ph\n",
    "import yfinance as yf\n",
    "\n",
    "def Parity(x, y, z):\n",
    "    \"\"\"Returns 1 if an odd number of the three inputs is 1, else 0 (bitwise XOR).\"\"\"\n",
    "    x = np.uint32(x)\n",
    "    y = np.uint32(y)\n",
    "    z = np.uint32(z)\n",
    "    return x ^ y ^ z\n",
    "\n",
    "def test_parity():\n",
    "    # test for all 0's\n",
    "    assert Parity(0x00000000, 0x00000000, 0x00000000) == np.uint32(0x00000000)\n",
    "    # test for all 1's\n",
    "    assert Parity(0xFFFFFFFF, 0xFFFFFFFF, 0xFFFFFFFF) == np.uint32(0xFFFFFFFF)\n",
    "    # test for mixed numbers\n",
    "    assert Parity(0x0F0F0F0F, 0x33333333, 0x55555555) == np.uint32(0x69696969)\n",
    "    a = np.uint32(0b10101010_10101010_10101010_10101010)\n",
    "    b = np.uint32(0b01010101_01010101_01010101_01010101)\n",
    "    c = np.uint32(0xFFFFFFFF)\n",
    "    result = Parity(a, b, c)\n",
    "    expected = np.uint32(0x00000000)\n",
    "    assert result == expected, f\"Expected {expected:#010x}, got {result:#010x}\"\n",
    "    print(\"All test cases passed!\")\n",
    "\n",
    "test_parity()"
   ]
  },
  {
   "cell_type": "markdown",
   "id": "5f6396fa",
   "metadata": {},
   "source": [
    "## Problem 1 (part 2) Choice (Ch) Function\n",
    "\n",
    "The choice function returns the value of `y` where the corresponding bit of `x` is 1, and the value of `z` where the corresponding bit of `x` is 0. This is used in cryptographic hash functions."
   ]
  },
  {
   "cell_type": "code",
   "execution_count": null,
   "id": "9eef7276",
   "metadata": {},
   "outputs": [],
   "source": [
    "def Ch(x, y, z):\n",
    "    \"\"\"Returns y where x is 1, z where x is 0 (bitwise).\"\"\"\n",
    "    x = np.uint32(x)\n",
    "    y = np.uint32(y)\n",
    "    z = np.uint32(z)\n",
    "    return np.uint32((x & y) ^ ((~x & 0xFFFFFFFF) & z))\n",
    "\n",
    "def test_ch():\n",
    "    assert Ch(0x00000000, 0x00000000, 0x00000000) == np.uint32(0x00000000)\n",
    "    assert Ch(0xFFFFFFFF, 0xFFFFFFFF, 0xFFFFFFFF) == np.uint32(0xFFFFFFFF)\n",
    "    assert Ch(0xAAAAAAAA, 0x55555555, 0xFFFFFFFF) == np.uint32(0x55555555)\n",
    "    a = np.uint32(0b10101010_10101010_10101010_10101010)\n",
    "    b = np.uint32(0b01010101_01010101_01010101_01010101)\n",
    "    c = np.uint32(0xFFFFFFFF)\n",
    "    result = Ch(a, b, c)\n",
    "    expected = np.uint32(0x55555555)\n",
    "    assert result == expected, f\"Expected {expected:#010x}, got {result:#010x}\"\n",
    "    print(\"All test cases passed!\")\n",
    "\n",
    "test_ch()"
   ]
  },
  {
   "cell_type": "markdown",
   "id": "c8770464",
   "metadata": {},
   "source": [
    "## Problem 1 (part 3) Majority (Maj) Function\n",
    "\n",
    "The majority function returns 1 for each bit position where at least two of the three inputs are 1. This is also used in cryptographic hash functions."
   ]
  },
  {
   "cell_type": "code",
   "execution_count": 10,
   "id": "7e50690d",
   "metadata": {},
   "outputs": [
    {
     "name": "stdout",
     "output_type": "stream",
     "text": [
      "All test cases passed!\n"
     ]
    }
   ],
   "source": [
    "def Maj(x, y, z):\n",
    "    \"\"\"Returns 1 for each bit where at least two of x, y, z are 1.\"\"\"\n",
    "    x = np.uint32(x)\n",
    "    y = np.uint32(y)\n",
    "    z = np.uint32(z)\n",
    "    return np.uint32((x & y) ^ (x & z) ^ (y & z))\n",
    "\n",
    "def test_maj():\n",
    "    assert Maj(0x00000000, 0x00000000, 0x00000000) == np.uint32(0x00000000)\n",
    "    assert Maj(0xFFFFFFFF, 0xFFFFFFFF, 0xFFFFFFFF) == np.uint32(0xFFFFFFFF)\n",
    "    assert Maj(0x55555555, 0x55555555, 0xFFFFFFFF) == np.uint32(0x55555555)\n",
    "    a = np.uint32(0b10101010_10101010_10101010_10101010)\n",
    "    b = np.uint32(0b01010101_01010101_01010101_01010101)\n",
    "    c = np.uint32(0xFFFFFFFF)\n",
    "    result = Maj(a, b, c)\n",
    "    expected = np.uint32(0xFFFFFFFF)\n",
    "    assert result == expected, f\"Expected {expected:#010x}, got {result:#010x}\"\n",
    "    print(\"All test cases passed!\")\n",
    "\n",
    "test_maj()"
   ]
  },
  {
   "cell_type": "markdown",
   "id": "e0700f0e",
   "metadata": {},
   "source": [
    "## Problem 1 (part 4) Bitwise Rotations and Sigma0\n",
    "\n",
    "The `rotr` function rotates a 32-bit word to the right by `n` bits. `Sigma0` is a cryptographic function that combines three right rotations (by 2, 13, and 22 bits) using XOR."
   ]
  },
  {
   "cell_type": "code",
   "execution_count": null,
   "id": "27295e29",
   "metadata": {},
   "outputs": [],
   "source": [
    "def rotr(x, n):\n",
    "    \"\"\"Rotate right: shifts x to the right by n bits, wrapping around.\"\"\"\n",
    "    x = np.uint32(x)\n",
    "    return np.uint32((x >> n) | (x << (32 - n)) & 0xFFFFFFFF)\n",
    "\n",
    "def Sigma0(x):\n",
    "    \"\"\"Big Sigma0: rotr(x,2) ^ rotr(x,13) ^ rotr(x,22).\"\"\"\n",
    "    x = np.uint32(x)\n",
    "    return rotr(x, 2) ^ rotr(x, 13) ^ rotr(x, 22)\n",
    "\n",
    "def test_sigma0():\n",
    "    x = np.uint32(0x12345678)\n",
    "    result = Sigma0(x)\n",
    "    print(f\"Sigma0(0x{x:08X}) = 0x{result:08X}\")\n",
    "\n",
    "test_sigma0()"
   ]
  },
  {
   "cell_type": "markdown",
   "id": "e1ea1339",
   "metadata": {},
   "source": [
    "## Problem 1 (part 5) Big Sigma1 Function\n",
    "\n",
    "`Sigma1` is another cryptographic function, combining right rotations by 6, 11, and 25 bits using XOR."
   ]
  },
  {
   "cell_type": "code",
   "execution_count": null,
   "id": "80a88386",
   "metadata": {},
   "outputs": [],
   "source": [
    "def Sigma1(x):\n",
    "    \"\"\"Big Sigma1: rotr(x,6) ^ rotr(x,11) ^ rotr(x,25).\"\"\"\n",
    "    x = np.uint32(x)\n",
    "    return rotr(x, 6) ^ rotr(x, 11) ^ rotr(x, 25)\n",
    "\n",
    "x = np.uint32(0x12345678)\n",
    "result = Sigma1(x)\n",
    "print(f\"Sigma1(0x{x:08X}) = 0x{result:08X}\")\n",
    "\n"
   ]
  },
  {
   "cell_type": "markdown",
   "id": "37d993c3",
   "metadata": {},
   "source": [
    "## Problem 1 (part 6) Small sigma0 Function\n",
    "\n",
    "The `shr` function shifts a 32-bit word to the right by `n` bits, filling with zeros. `sigma0` combines right rotations by 7 and 18 bits and a right shift by 3 bits using XOR."
   ]
  },
  {
   "cell_type": "code",
   "execution_count": null,
   "id": "18573b15",
   "metadata": {},
   "outputs": [],
   "source": [
    "def shr(x, n):\n",
    "    \"\"\"Shift right: shifts x to the right by n bits, filling with 0.\"\"\"\n",
    "    x = np.uint32(x)\n",
    "    return np.uint32(x >> n)\n",
    "\n",
    "def sigma0(x):\n",
    "    \"\"\"Small sigma0: rotr(x,7) ^ rotr(x,18) ^ shr(x,3).\"\"\"\n",
    "    x = np.uint32(x)\n",
    "    return rotr(x, 7) ^ rotr(x, 18) ^ shr(x, 3)\n",
    "\n",
    "x = np.uint32(0x12345678)\n",
    "result = sigma0(x)\n",
    "print(f\"sigma0(0x{x:08X}) = 0x{result:08X}\")"
   ]
  },
  {
   "cell_type": "markdown",
   "id": "73a501c9",
   "metadata": {},
   "source": [
    "## Problem 1 (part 7) Small sigma1 Function\n",
    "\n",
    "`sigma1` combines right rotations by 17 and 19 bits and a right shift by 10 bits using XOR."
   ]
  },
  {
   "cell_type": "code",
   "execution_count": null,
   "id": "369cd4a7-2f0d-4b20-84e0-d7c746d9ed0a",
   "metadata": {},
   "outputs": [],
   "source": [
    "def sigma1(x):\n",
    "    \"\"\"Small sigma1: rotr(x,17) ^ rotr(x,19) ^ shr(x,10).\"\"\"\n",
    "    x = np.uint32(x)\n",
    "    return rotr(x, 17) ^ rotr(x, 19) ^ shr(x, 10)\n",
    "\n",
    "x = np.uint32(0x12345678)\n",
    "result = sigma1(x)\n",
    "print(f\"sigma1(0x{x:08X}) = 0x{result:08X}\")"
   ]
  },
  {
   "attachments": {},
   "cell_type": "markdown",
   "id": "e803082b",
   "metadata": {},
   "source": [
    "## Problem 2 (part 1) Generating the first n prime numbers"
   ]
  },
  {
   "cell_type": "markdown",
   "id": "6e995b6f",
   "metadata": {},
   "source": [
    "## Generates the first n prime numbers by checking each candidate number in order. For each candidate, it tests divisibility only by previously found primes that are less than or equal to the square root of the candidate. If the candidate is not divisible by any of these primes, it is added to the list of primes."
   ]
  },
  {
   "cell_type": "code",
   "execution_count": 11,
   "id": "e03a7c1c",
   "metadata": {},
   "outputs": [
    {
     "name": "stdout",
     "output_type": "stream",
     "text": [
      "All test cases passed!\n"
     ]
    }
   ],
   "source": [
    "def Primes(n):\n",
    "    \"\"\"Generates the first n prime numbers using NumPy.\"\"\"\n",
    "    if n == 0:\n",
    "        return []\n",
    "    \n",
    "    primes_list = [2]\n",
    "    candidate = 3\n",
    "    \n",
    "    while len(primes_list) < n:\n",
    "        # Converts the current list of primes to a NumPy array for vectorized operations\n",
    "        primes_array = np.array(primes_list)\n",
    "        # checks divisibility for primes <= sqrt(candidate)\n",
    "        primes_array = primes_array[primes_array <= np.sqrt(candidate)]\n",
    "        \n",
    "        # Vectorized divisibility check\n",
    "        if not np.any(candidate % primes_array == 0):\n",
    "            primes_list.append(candidate)\n",
    "        \n",
    "        candidate += 2  # Skip even numbers\n",
    "    \n",
    "    return primes_list\n",
    "    \n",
    "def test_primes():\n",
    "    # test for prime number in list\n",
    "    assert Primes(2) == [2, 3]\n",
    "    \n",
    "    # test for even number in list\n",
    "    assert Primes(4) == [2, 3, 5, 7]\n",
    "\n",
    "    # test for first prime\n",
    "    assert Primes(1) == [2]\n",
    "\n",
    "    print(\"All test cases passed!\")\n",
    "\n",
    "test_primes()"
   ]
  },
  {
   "cell_type": "markdown",
   "id": "37816ef4",
   "metadata": {},
   "source": [
    "## Problem 2 (part 2) Cube Root of the First 64 Primes"
   ]
  },
  {
   "cell_type": "markdown",
   "id": "243302a1",
   "metadata": {},
   "source": [
    "## Calculates the cube root of the first n primes by converting the primes list to an array and taking the cube root. "
   ]
  },
  {
   "cell_type": "code",
   "execution_count": 18,
   "id": "726aae94-95c9-412a-a3b9-06f78bc40e51",
   "metadata": {},
   "outputs": [
    {
     "name": "stdout",
     "output_type": "stream",
     "text": [
      "All test cases passed!\n"
     ]
    }
   ],
   "source": [
    "def cube_roots_of_primes(n):\n",
    "    \"\"\"Generates the cube roots of the first n prime numbers.\"\"\"\n",
    "    primes = np.array(Primes(n))\n",
    "    cube_roots = primes ** (1/3)\n",
    "    return cube_roots\n",
    "    \n",
    "def test_cube_roots_of_primes():\n",
    "    # Test 1: Test for first 2 primes\n",
    "    roots_2 = cube_roots_of_primes(2)\n",
    "    expected_2 = np.array([2 ** (1/3), 3 ** (1/3)])\n",
    "    \n",
    "    # I use allclose() function to compare cube roots becuase the floats cannot be exact e.g 1.259921049.....\n",
    "    assert np.allclose(roots_2, expected_2, rtol=1e-4), f\"Expected {expected_2}, got {roots_2}\"\n",
    "    \n",
    "    # Test 2: Test for first 4 primes\n",
    "    roots_4 = cube_roots_of_primes(4)\n",
    "    expected_4 = np.array([2 ** (1/3), 3 ** (1/3), 5 ** (1/3), 7 ** (1/3)])\n",
    "    assert np.allclose(roots_4, expected_4, rtol=1e-4), f\"Expected {expected_4}, got {roots_4}\"\n",
    "    \n",
    "    # Test 3: Test for first prime\n",
    "    roots_1 = cube_roots_of_primes(1)\n",
    "    expected_1 = np.array([2 ** (1/3)])\n",
    "    assert np.allclose(roots_1, expected_1, rtol=1e-4), f\"Expected {expected_1}, got {roots_1}\"\n",
    "    \n",
    "    print(\"All test cases passed!\")\n",
    "\n",
    "test_cube_roots_of_primes()"
   ]
  },
  {
   "cell_type": "markdown",
   "id": "b55e9701",
   "metadata": {},
   "source": [
    "## Problem 2 (part 3) The First Thirty-Two Bits of the Fractional Part"
   ]
  },
  {
   "cell_type": "markdown",
   "id": "de2c5b28",
   "metadata": {},
   "source": [
    "## Extracts the fractional part by subtracting the integer part. For each of 32 bits, multiplies the fractional part by 2; the integer part (0 or 1) becomes the next bit, then subtracts it to prepare for the next iteration."
   ]
  },
  {
   "cell_type": "code",
   "execution_count": 3,
   "id": "3fe924e5-be3e-4a98-8aa7-ac3d55d4a05e",
   "metadata": {},
   "outputs": [
    {
     "name": "stdout",
     "output_type": "stream",
     "text": [
      "All test cases passed!\n"
     ]
    }
   ],
   "source": [
    "def first_32_bits_fractional(x):\n",
    "    \"\"\"Generates the first 32 bits of the fractional part of x in binary.\"\"\"\n",
    "    frac = x - int(x)\n",
    "    bits = []\n",
    "    for _ in range(32):\n",
    "        frac *= 2\n",
    "        bit = int(frac)\n",
    "        bits.append(bit)\n",
    "        frac -= bit\n",
    "    return bits\n",
    "\n",
    "def cube_root_bits_of_primes(n):\n",
    "    primes = np.array(Primes(n))\n",
    "    cube_roots = primes ** (1/3)\n",
    "    all_bits = [first_32_bits_fractional(root) for root in cube_roots]\n",
    "    return all_bits\n",
    "\n",
    "def test_first_32_bits_fractional():\n",
    "    # Test 1: test for fraction with non-leading zero\n",
    "    x = 1.5\n",
    "    expected = [1] + [0]*31\n",
    "    result = first_32_bits_fractional(x)\n",
    "    assert result == expected, f\"Test 1 failed: {result}\"\n",
    "    \n",
    "    # Test 2: test for fraction with leading zero\n",
    "    x = 1.25   # fractional part = 0.25 → binary 0.01\n",
    "    expected = [0, 1] + [0]*30\n",
    "    result = first_32_bits_fractional(x)\n",
    "    assert result == expected, f\"Test 2 failed: {result}\"\n",
    "    \n",
    "    # Test 3: test for 32 bit length list\n",
    "    x = 3.1415926\n",
    "    result = first_32_bits_fractional(x)\n",
    "    assert len(result) == 32, f\"Test 3 failed: length {len(result)}\"\n",
    "    \n",
    "    # Test 4: test only 0s and 1s\n",
    "    x = 2.71828\n",
    "    result = first_32_bits_fractional(x)\n",
    "    assert all(bit in [0, 1] for bit in result), f\"Test 4 failed: {result}\"\n",
    "    \n",
    "    print(\"All test cases passed!\")\n",
    "\n",
    "test_first_32_bits_fractional()\n",
    "    "
   ]
  },
  {
   "cell_type": "markdown",
   "id": "81e52d3c",
   "metadata": {},
   "source": [
    "## Problem 2 (part 4) The Result in Hexadecimal"
   ]
  },
  {
   "cell_type": "markdown",
   "id": "b4711103",
   "metadata": {},
   "source": [
    "## Converts the 32-bit binary list from part 3 to a hexadecimal integer by shifting each bit left and combining them using bitwise OR."
   ]
  },
  {
   "cell_type": "code",
   "execution_count": null,
   "id": "66de0e0e",
   "metadata": {},
   "outputs": [
    {
     "name": "stdout",
     "output_type": "stream",
     "text": [
      "hex=0x80000000\n",
      "hex=0x40000000\n",
      "hex=0x243f69a2\n",
      "hex=0xb7e132b5\n",
      "All test cases passed!\n"
     ]
    }
   ],
   "source": [
    "def bits_to_int(bits):\n",
    "    value = 0\n",
    "    for bit in bits:\n",
    "        value = (value << 1) | bit\n",
    "    return value\n",
    "\n",
    "def test_result_of_first_32_bits_of_fractional_part_in_hexidecimal():\n",
    "    # Test 1: fraction with non-leading zero\n",
    "    x = 1.5\n",
    "    expected = [1] + [0]*31\n",
    "    result = first_32_bits_fractional(x)\n",
    "    assert result == expected, f\"Test 1 failed: {result}\"\n",
    "    print(f\"hex={hex(bits_to_int(result))}\")\n",
    "\n",
    "    # Test 2: fraction with leading zero\n",
    "    x = 0.25\n",
    "    expected = [0, 1] + [0]*30\n",
    "    result = first_32_bits_fractional(x)\n",
    "    assert result == expected, f\"Test 2 failed: {result}\"\n",
    "    print(f\"hex={hex(bits_to_int(result))}\")\n",
    "\n",
    "    # Test 3: 32 bit length\n",
    "    x = 3.1415926\n",
    "    result = first_32_bits_fractional(x)\n",
    "    assert len(result) == 32, f\"Test 3 failed: length {len(result)}\"\n",
    "    print(f\"hex={hex(bits_to_int(result))}\")\n",
    "\n",
    "    # Test 4: only 0s and 1s\n",
    "    x = 2.71828\n",
    "    result = first_32_bits_fractional(x)\n",
    "    assert all(bit in [0, 1] for bit in result), f\"Test 4 failed: {result}\"\n",
    "    print(f\"hex={hex(bits_to_int(result))}\")\n",
    "\n",
    "    print(\"All test cases passed!\")\n",
    "\n",
    "test_result_of_first_32_bits_of_fractional_part_in_hexidecimal()"
   ]
  },
  {
   "cell_type": "markdown",
   "id": "b642b977",
   "metadata": {},
   "source": [
    "## Problem 2 (part 5) Results Tested Against What is in the Secure Hash Standard"
   ]
  },
  {
   "cell_type": "markdown",
   "id": "24e7a922",
   "metadata": {},
   "source": [
    "## Tests the cube root computation from parts 2-4 against SHA-256 round constants (K0-K63), which are the first 32 bits of fractional parts of cube roots of the first 64 primes."
   ]
  },
  {
   "cell_type": "code",
   "execution_count": 13,
   "id": "3ce5fdc9",
   "metadata": {},
   "outputs": [
    {
     "name": "stdout",
     "output_type": "stream",
     "text": [
      "K[ 0] Prime   2: computed 0x428a2f98, expected 0x428a2f98 True\n",
      "K[ 1] Prime   3: computed 0x71374491, expected 0x71374491 True\n",
      "K[ 2] Prime   5: computed 0xb5c0fbcf, expected 0xb5c0fbcf True\n",
      "K[ 3] Prime   7: computed 0xe9b5dba5, expected 0xe9b5dba5 True\n",
      "K[ 4] Prime  11: computed 0x3956c25b, expected 0x3956c25b True\n",
      "K[ 5] Prime  13: computed 0x59f111f1, expected 0x59f111f1 True\n",
      "K[ 6] Prime  17: computed 0x923f82a4, expected 0x923f82a4 True\n",
      "K[ 7] Prime  19: computed 0xab1c5ed5, expected 0xab1c5ed5 True\n",
      "K[ 8] Prime  23: computed 0xd807aa98, expected 0xd807aa98 True\n",
      "K[ 9] Prime  29: computed 0x12835b01, expected 0x12835b01 True\n",
      "K[10] Prime  31: computed 0x243185be, expected 0x243185be True\n",
      "K[11] Prime  37: computed 0x550c7dc3, expected 0x550c7dc3 True\n",
      "K[12] Prime  41: computed 0x72be5d74, expected 0x72be5d74 True\n",
      "K[13] Prime  43: computed 0x80deb1fe, expected 0x80deb1fe True\n",
      "K[14] Prime  47: computed 0x9bdc06a7, expected 0x9bdc06a7 True\n",
      "K[15] Prime  53: computed 0xc19bf174, expected 0xc19bf174 True\n",
      "K[16] Prime  59: computed 0xe49b69c1, expected 0xe49b69c1 True\n",
      "K[17] Prime  61: computed 0xefbe4786, expected 0xefbe4786 True\n",
      "K[18] Prime  67: computed 0x0fc19dc6, expected 0x0fc19dc6 True\n",
      "K[19] Prime  71: computed 0x240ca1cc, expected 0x240ca1cc True\n",
      "K[20] Prime  73: computed 0x2de92c6f, expected 0x2de92c6f True\n",
      "K[21] Prime  79: computed 0x4a7484aa, expected 0x4a7484aa True\n",
      "K[22] Prime  83: computed 0x5cb0a9dc, expected 0x5cb0a9dc True\n",
      "K[23] Prime  89: computed 0x76f988da, expected 0x76f988da True\n",
      "K[24] Prime  97: computed 0x983e5152, expected 0x983e5152 True\n",
      "K[25] Prime 101: computed 0xa831c66d, expected 0xa831c66d True\n",
      "K[26] Prime 103: computed 0xb00327c8, expected 0xb00327c8 True\n",
      "K[27] Prime 107: computed 0xbf597fc7, expected 0xbf597fc7 True\n",
      "K[28] Prime 109: computed 0xc6e00bf3, expected 0xc6e00bf3 True\n",
      "K[29] Prime 113: computed 0xd5a79147, expected 0xd5a79147 True\n",
      "K[30] Prime 127: computed 0x06ca6351, expected 0x06ca6351 True\n",
      "K[31] Prime 131: computed 0x14292967, expected 0x14292967 True\n",
      "K[32] Prime 137: computed 0x27b70a85, expected 0x27b70a85 True\n",
      "K[33] Prime 139: computed 0x2e1b2138, expected 0x2e1b2138 True\n",
      "K[34] Prime 149: computed 0x4d2c6dfc, expected 0x4d2c6dfc True\n",
      "K[35] Prime 151: computed 0x53380d13, expected 0x53380d13 True\n",
      "K[36] Prime 157: computed 0x650a7354, expected 0x650a7354 True\n",
      "K[37] Prime 163: computed 0x766a0abb, expected 0x766a0abb True\n",
      "K[38] Prime 167: computed 0x81c2c92e, expected 0x81c2c92e True\n",
      "K[39] Prime 173: computed 0x92722c85, expected 0x92722c85 True\n",
      "K[40] Prime 179: computed 0xa2bfe8a1, expected 0xa2bfe8a1 True\n",
      "K[41] Prime 181: computed 0xa81a664b, expected 0xa81a664b True\n",
      "K[42] Prime 191: computed 0xc24b8b70, expected 0xc24b8b70 True\n",
      "K[43] Prime 193: computed 0xc76c51a3, expected 0xc76c51a3 True\n",
      "K[44] Prime 197: computed 0xd192e819, expected 0xd192e819 True\n",
      "K[45] Prime 199: computed 0xd6990624, expected 0xd6990624 True\n",
      "K[46] Prime 211: computed 0xf40e3585, expected 0xf40e3585 True\n",
      "K[47] Prime 223: computed 0x106aa070, expected 0x106aa070 True\n",
      "K[48] Prime 227: computed 0x19a4c116, expected 0x19a4c116 True\n",
      "K[49] Prime 229: computed 0x1e376c08, expected 0x1e376c08 True\n",
      "K[50] Prime 233: computed 0x2748774c, expected 0x2748774c True\n",
      "K[51] Prime 239: computed 0x34b0bcb5, expected 0x34b0bcb5 True\n",
      "K[52] Prime 241: computed 0x391c0cb3, expected 0x391c0cb3 True\n",
      "K[53] Prime 251: computed 0x4ed8aa4a, expected 0x4ed8aa4a True\n",
      "K[54] Prime 257: computed 0x5b9cca4f, expected 0x5b9cca4f True\n",
      "K[55] Prime 263: computed 0x682e6ff3, expected 0x682e6ff3 True\n",
      "K[56] Prime 269: computed 0x748f82ee, expected 0x748f82ee True\n",
      "K[57] Prime 271: computed 0x78a5636f, expected 0x78a5636f True\n",
      "K[58] Prime 277: computed 0x84c87814, expected 0x84c87814 True\n",
      "K[59] Prime 281: computed 0x8cc70208, expected 0x8cc70208 True\n",
      "K[60] Prime 283: computed 0x90befffa, expected 0x90befffa True\n",
      "K[61] Prime 293: computed 0xa4506ceb, expected 0xa4506ceb True\n",
      "K[62] Prime 307: computed 0xbef9a3f7, expected 0xbef9a3f7 True\n",
      "K[63] Prime 311: computed 0xc67178f2, expected 0xc67178f2 True\n",
      "\n",
      "All SHA-256 round constants match!\n"
     ]
    }
   ],
   "source": [
    "def test_sha_round_constants():\n",
    "    # The first 64 primes\n",
    "    primes_sha = Primes(64)\n",
    "    \n",
    "    # SHA-224 and SHA-256 Constants \n",
    "    expected_k = [\n",
    "        0x428a2f98, 0x71374491, 0xb5c0fbcf, 0xe9b5dba5, 0x3956c25b, 0x59f111f1, 0x923f82a4, 0xab1c5ed5,\n",
    "        0xd807aa98, 0x12835b01, 0x243185be, 0x550c7dc3, 0x72be5d74, 0x80deb1fe, 0x9bdc06a7, 0xc19bf174,\n",
    "        0xe49b69c1, 0xefbe4786, 0x0fc19dc6, 0x240ca1cc, 0x2de92c6f, 0x4a7484aa, 0x5cb0a9dc, 0x76f988da,\n",
    "        0x983e5152, 0xa831c66d, 0xb00327c8, 0xbf597fc7, 0xc6e00bf3, 0xd5a79147, 0x06ca6351, 0x14292967,\n",
    "        0x27b70a85, 0x2e1b2138, 0x4d2c6dfc, 0x53380d13, 0x650a7354, 0x766a0abb, 0x81c2c92e, 0x92722c85,\n",
    "        0xa2bfe8a1, 0xa81a664b, 0xc24b8b70, 0xc76c51a3, 0xd192e819, 0xd6990624, 0xf40e3585, 0x106aa070,\n",
    "        0x19a4c116, 0x1e376c08, 0x2748774c, 0x34b0bcb5, 0x391c0cb3, 0x4ed8aa4a, 0x5b9cca4f, 0x682e6ff3,\n",
    "        0x748f82ee, 0x78a5636f, 0x84c87814, 0x8cc70208, 0x90befffa, 0xa4506ceb, 0xbef9a3f7, 0xc67178f2\n",
    "    ]\n",
    "    \n",
    "    for i, prime in enumerate(primes_sha):\n",
    "        cube_root = prime ** (1/3)\n",
    "        bits = first_32_bits_fractional(cube_root)\n",
    "        computed_hex = bits_to_int(bits)\n",
    "        expected_hex = expected_k[i]\n",
    "        \n",
    "        match_status = computed_hex == expected_hex\n",
    "        print(f\"K[{i:2d}] Prime {prime:3d}: computed 0x{computed_hex:08x}, expected 0x{expected_hex:08x} {match_status}\")\n",
    "        \n",
    "        assert computed_hex == expected_hex, f\"Mismatch for K[{i}] (prime {prime}): got 0x{computed_hex:08x}, expected 0x{expected_hex:08x}\"\n",
    "    \n",
    "    print(\"\\nAll SHA-256 round constants match!\")\n",
    "\n",
    "test_sha_round_constants()"
   ]
  },
  {
   "cell_type": "markdown",
   "id": "dedfbd70",
   "metadata": {},
   "source": [
    "## Problem 3: Padding\n"
   ]
  },
  {
   "cell_type": "markdown",
   "id": "a19c86e7",
   "metadata": {},
   "source": [
    "## Problem 4: Hashes\n"
   ]
  },
  {
   "cell_type": "markdown",
   "id": "e50ee786",
   "metadata": {},
   "source": [
    "## Problem 5: Passwords\n"
   ]
  },
  {
   "cell_type": "markdown",
   "id": "737fca93",
   "metadata": {},
   "source": [
    "## End"
   ]
  }
 ],
 "metadata": {
  "kernelspec": {
   "display_name": "Python 3",
   "language": "python",
   "name": "python3"
  },
  "language_info": {
   "codemirror_mode": {
    "name": "ipython",
    "version": 3
   },
   "file_extension": ".py",
   "mimetype": "text/x-python",
   "name": "python",
   "nbconvert_exporter": "python",
   "pygments_lexer": "ipython3",
   "version": "3.12.12"
  }
 },
 "nbformat": 4,
 "nbformat_minor": 5
}
